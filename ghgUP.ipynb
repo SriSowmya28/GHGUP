{
  "nbformat": 4,
  "nbformat_minor": 0,
  "metadata": {
    "colab": {
      "provenance": [],
      "gpuType": "T4",
      "authorship_tag": "ABX9TyMzgB2KC6hT/yyLxiKgMUn1",
      "include_colab_link": true
    },
    "kernelspec": {
      "name": "python3",
      "display_name": "Python 3"
    },
    "language_info": {
      "name": "python"
    },
    "accelerator": "GPU"
  },
  "cells": [
    {
      "cell_type": "markdown",
      "metadata": {
        "id": "view-in-github",
        "colab_type": "text"
      },
      "source": [
        "<a href=\"https://colab.research.google.com/github/masifkhan3/GHGUP/blob/main/ghgUP.ipynb\" target=\"_parent\"><img src=\"https://colab.research.google.com/assets/colab-badge.svg\" alt=\"Open In Colab\"/></a>"
      ]
    },
    {
      "cell_type": "code",
      "source": [
        "import numpy as np\n",
        "import pandas as pd\n",
        "\n",
        "# Define emission factors (in eqmton per unit)\n",
        "emission_factors = {\n",
        "    'coal': 2.86,  # for coal in mton\n",
        "    'biomass': 0.06,  # for biomass in mton\n",
        "    'natural_gas': 0.0053 ,  # for natural gas in mmBTU (multiply by 1e6 to convert to BTU)\n",
        "    'diesel_oil': 0.0027,  # for diesel oil in liters\n",
        "    'ch4_coal': 0.0003,  # for CH4 emissions per mton of coal burned\n",
        "    'ch4_biomass': 0.0002,  # for CH4 emissions per mton of biomass burned\n",
        "    'ch4_natural_gas': 0.0001,  # for CH4 emissions per mmBTU of natural gas burned\n",
        "    'ch4_diesel_oil': 0.00015,  # for CH4 emissions per liter of diesel oil burned\n",
        "    'n2o_coal': 0.00005,  # for N2O emissions per mton of coal burned\n",
        "    'n2o_biomass': 0.00004,  # for N2O emissions per mton of biomass burned\n",
        "    'n2o_natural_gas': 0.00002,  # for N2O emissions per mmBTU of natural gas burned\n",
        "    'n2o_diesel_oil': 0.00003  # for N2O emissions per liter of diesel oil burned\n",
        "}\n",
        "\n",
        "# Input from the user\n",
        "coal_mton = float(input(\"Enter coal in mton: \"))\n",
        "biomass_mton = float(input(\"Enter biomass in mton: \"))\n",
        "natural_gas_mmbtu = float(input(\"Enter natural gas in mmBTU: \"))  # input in mmBTU\n",
        "diesel_oil_liters = float(input(\"Enter diesel oil in liters: \"))\n",
        "\n",
        "# Calculate GHG emissions\n",
        "ghg_coal = coal_mton * emission_factors['coal']\n",
        "ghg_biomass = biomass_mton * emission_factors['biomass']\n",
        "ghg_natural_gas = natural_gas_mmbtu * emission_factors['natural_gas']\n",
        "ghg_diesel_oil = diesel_oil_liters * emission_factors['diesel_oil']\n",
        "\n",
        "# Calculate CH4 emissions based on fuel burn\n",
        "ghg_ch4_coal = coal_mton * emission_factors['ch4_coal']\n",
        "ghg_ch4_biomass = biomass_mton * emission_factors['ch4_biomass']\n",
        "ghg_ch4_natural_gas = natural_gas_mmbtu * emission_factors['ch4_natural_gas']\n",
        "ghg_ch4_diesel_oil = diesel_oil_liters * emission_factors['ch4_diesel_oil']\n",
        "\n",
        "# Calculate N2O emissions based on fuel burn\n",
        "ghg_n2o_coal = coal_mton * emission_factors['n2o_coal']\n",
        "ghg_n2o_biomass = biomass_mton * emission_factors['n2o_biomass']\n",
        "ghg_n2o_natural_gas = natural_gas_mmbtu * emission_factors['n2o_natural_gas']\n",
        "ghg_n2o_diesel_oil = diesel_oil_liters * emission_factors['n2o_diesel_oil']\n",
        "\n",
        "# Total GHG emissions\n",
        "total_ghg = (ghg_coal + ghg_biomass + ghg_natural_gas + ghg_diesel_oil +\n",
        "              ghg_ch4_coal + ghg_ch4_biomass + ghg_ch4_natural_gas + ghg_ch4_diesel_oil +\n",
        "              ghg_n2o_coal + ghg_n2o_biomass + ghg_n2o_natural_gas + ghg_n2o_diesel_oil)\n",
        "\n",
        "# Prepare results for tabulation\n",
        "results = {\n",
        "    \"Source\": [\n",
        "        \"Coal\", \"Biomass\", \"Natural Gas\", \"Diesel Oil\",\n",
        "        \"CH4 (Coal)\", \"CH4 (Biomass)\", \"CH4 (Natural Gas)\", \"CH4 (Diesel Oil)\",\n",
        "        \"N2O (Coal)\", \"N2O (Biomass)\", \"N2O (Natural Gas)\", \"N2O (Diesel Oil)\",\n",
        "        \"Total GHG Emissions\"\n",
        "    ],\n",
        "    \"GHG Emissions (eqmton)\": [\n",
        "        ghg_coal, ghg_biomass, ghg_natural_gas, ghg_diesel_oil,\n",
        "        ghg_ch4_coal, ghg_ch4_biomass, ghg_ch4_natural_gas, ghg_ch4_diesel_oil,\n",
        "        ghg_n2o_coal, ghg_n2o_biomass, ghg_n2o_natural_gas, ghg_n2o_diesel_oil,\n",
        "        total_ghg\n",
        "    ]\n",
        "}\n",
        "\n",
        "# Create DataFrame for results\n",
        "results_df = pd.DataFrame(results)\n",
        "\n",
        "# Display the results in tabulated form\n",
        "print(\"\\nGHG Emissions Calculation Results\")\n",
        "print(results_df.to_string(index=False))\n",
        "\n",
        "# Company name and developer information\n",
        "print(\"\\nCompany: NIMIR\")\n",
        "print(\"Developed by: mak3.11\")\n"
      ],
      "metadata": {
        "colab": {
          "base_uri": "https://localhost:8080/"
        },
        "id": "Zsi7x0miOMrQ",
        "outputId": "8f813703-b597-43c2-8e2e-40e73fc7e1de"
      },
      "execution_count": 19,
      "outputs": [
        {
          "output_type": "stream",
          "name": "stdout",
          "text": [
            "Enter coal in mton: 200\n",
            "Enter biomass in mton: 50\n",
            "Enter natural gas in mmBTU: 20\n",
            "Enter diesel oil in liters: 200\n",
            "\n",
            "GHG Emissions Calculation Results\n",
            "             Source  GHG Emissions (eqmton)\n",
            "               Coal                572.0000\n",
            "            Biomass                  3.0000\n",
            "        Natural Gas                  0.1060\n",
            "         Diesel Oil                  0.5400\n",
            "         CH4 (Coal)                  0.0600\n",
            "      CH4 (Biomass)                  0.0100\n",
            "  CH4 (Natural Gas)                  0.0020\n",
            "   CH4 (Diesel Oil)                  0.0300\n",
            "         N2O (Coal)                  0.0100\n",
            "      N2O (Biomass)                  0.0020\n",
            "  N2O (Natural Gas)                  0.0004\n",
            "   N2O (Diesel Oil)                  0.0060\n",
            "Total GHG Emissions                575.7664\n",
            "\n",
            "Company: NIMIR\n",
            "Developed by: mak3.11\n"
          ]
        }
      ]
    }
  ]
}